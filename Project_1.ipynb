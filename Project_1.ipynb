{
 "cells": [
  {
   "cell_type": "markdown",
   "metadata": {
    "colab_type": "text",
    "id": "r-6UimwB-TcY"
   },
   "source": [
    "# Pittsburgh Real Estate Analysis\n",
    "\n",
    "## Is Pittsburgh experiencing a real estate bubble?\n",
    "\n",
    "### Introduction\n",
    "\n",
    "Pittsburgh Real Estate prices are relatively affordable, the median home price is $150,000. Prices have been steadily increasing over the past five years. If this is just a correction in price from the deflated values caused by the Great Recession, the price will level off. If this is a market bubble, prices may continue to rise until prospective homeowners are unable to afford a house. \n",
    "\n",
    "In this project we'll look at the state of Pittsburgh real estate prices. The historic state of prices over the past five years. We'll also look at basic demographics of the city such as population and income-levels."
   ]
  },
  {
   "cell_type": "code",
   "execution_count": 1,
   "metadata": {
    "colab": {},
    "colab_type": "code",
    "id": "lfcFwMAe-Tca"
   },
   "outputs": [],
   "source": [
    "% matplotlib inline\n",
    "import warnings\n",
    "warnings.filterwarnings('ignore')\n",
    "\n",
    "import pandas as pd\n",
    "import matplotlib.pyplot as plt\n",
    "import sys\n",
    "import seaborn as sns\n",
    "import math\n",
    "import numpy as np\n",
    "\n",
    "pd.set_option('display.max_columns', None)"
   ]
  },
  {
   "cell_type": "markdown",
   "metadata": {
    "colab_type": "text",
    "id": "ojlmWjis-Tck"
   },
   "source": [
    "### The Data\n",
    "\n",
    "First, we'll read in the transactional records of all Pittsburgh real estate over the past five years. The CSV file was obtained from [the Allegheny County Information Portal](http://infoportal.alleghenycounty.us/resalesdata/). The original file has many inconsequential columns such as which property deed book the transaction is recorded in. The data must first be cleaned of these columns. \n",
    "\n",
    "The data also has a \"sale code\" column which records if the sale was \"valid\" in the eyes of the county or not. Invalid sales can be foreclosures in which the property never enters the market or \"family and loved ones\" sales which are typically priced between one dollar and ten dollars. After removing entries for the invalid sales and keeping only the sales for Pittsburgh city zip codes (rather than suburbs and rural county sales) the sum of null records is 40. These are normalized to the median of the zip code. A couple hundred sales are recorded as $1,000 or less. These are entries which are recorded as \"valid\" sales, but are most likely tax dodges or family and loved-ones sales. The prices of these entries are normalized to the zip median as well because if the homes are put back on the market, they will probably fetch average prices."
   ]
  },
  {
   "cell_type": "code",
   "execution_count": 2,
   "metadata": {
    "colab": {},
    "colab_type": "code",
    "id": "lEQDrK70-Tcn"
   },
   "outputs": [],
   "source": [
    "#read the pittsburgh data in as a pandas dataframe\n",
    "raw_sales_df = pd.read_csv('data/pgh_re_sales.csv', low_memory=False)\n",
    "raw_forecl_df = pd.read_csv('data/foreclosures.csv', low_memory=False)"
   ]
  },
  {
   "cell_type": "code",
   "execution_count": 3,
   "metadata": {
    "colab": {},
    "colab_type": "code",
    "id": "7vEaIWDd-Tct"
   },
   "outputs": [],
   "source": [
    "raw_sales_df = raw_sales_df.assign(foreclosed=raw_sales_df.PARID.isin(raw_forecl_df.pin))"
   ]
  },
  {
   "cell_type": "code",
   "execution_count": 4,
   "metadata": {
    "colab": {},
    "colab_type": "code",
    "id": "1XnPt74C-Tc0",
    "outputId": "0942e30d-cbd9-4fd1-b978-7b7f973186bc"
   },
   "outputs": [
    {
     "data": {
      "text/plain": [
       "25774"
      ]
     },
     "execution_count": 4,
     "metadata": {},
     "output_type": "execute_result"
    }
   ],
   "source": [
    "raw_sales_df[raw_sales_df.foreclosed == True].shape[0]"
   ]
  },
  {
   "cell_type": "code",
   "execution_count": 5,
   "metadata": {
    "colab": {},
    "colab_type": "code",
    "id": "R45d7kZW-Tc8"
   },
   "outputs": [],
   "source": [
    "#create a new dataframe without certain columns\n",
    "drop_list = [\n",
    "    \"_id\", \"PARID\", \"MUNICODE\", \"DEEDBOOK\", \"DEEDPAGE\", \"SALEDESC\", \"INSTRTYP\",\n",
    "    \"INSTRTYPDESC\", \"PGH_COUNCIL_DISTRICT\", \"PGH_WARD\", \"PGH_PUBLIC_WORKS_DIVISION\",\n",
    "    \"PGH_POLICE_ZONE\", \"PGH_FIRE_ZONE\", \"TRACT\", 'RECORDDATE', \"BLOCK_GROUP\",'SCHOOLCODE', 'SCHOOLDESC', 'MUNICODE',\n",
    "       'MUNIDESC', 'MUNICIPALITY', 'NEIGHBORHOOD'\n",
    "            ]\n",
    "address_cleaning_df = raw_sales_df[[column for column in raw_sales_df.columns if column not in drop_list]]"
   ]
  },
  {
   "cell_type": "markdown",
   "metadata": {
    "colab_type": "text",
    "id": "uRzPSH0i-TdB"
   },
   "source": [
    "#### Data Cleaning\n",
    "\n",
    "The street address is split into several columns in the original dataset. PROPERTYHOUSENUM, PROPERTYFRACTION, PROPERTYADDRESSDIR, PROPERTYADDRESSSTREET, PROPERTYADDRESSUF, PROPERTYADDRESSUNITDESC, and PROPERTYUNITNO all make one address such as: 5022 1/2 S. Penn Ave. Apt. 4. These columns are combined to make one street_address column."
   ]
  },
  {
   "cell_type": "code",
   "execution_count": 6,
   "metadata": {
    "colab": {},
    "colab_type": "code",
    "id": "RM-PwoI9-TdD",
    "outputId": "70981e08-6cdc-4996-eb1a-88d44d5e4db5"
   },
   "outputs": [
    {
     "data": {
      "text/html": [
       "<div>\n",
       "<style scoped>\n",
       "    .dataframe tbody tr th:only-of-type {\n",
       "        vertical-align: middle;\n",
       "    }\n",
       "\n",
       "    .dataframe tbody tr th {\n",
       "        vertical-align: top;\n",
       "    }\n",
       "\n",
       "    .dataframe thead th {\n",
       "        text-align: right;\n",
       "    }\n",
       "</style>\n",
       "<table border=\"1\" class=\"dataframe\">\n",
       "  <thead>\n",
       "    <tr style=\"text-align: right;\">\n",
       "      <th></th>\n",
       "      <th>PROPERTYHOUSENUM</th>\n",
       "      <th>PROPERTYFRACTION</th>\n",
       "      <th>PROPERTYADDRESSDIR</th>\n",
       "      <th>PROPERTYADDRESSSTREET</th>\n",
       "      <th>PROPERTYADDRESSSUF</th>\n",
       "      <th>PROPERTYADDRESSUNITDESC</th>\n",
       "      <th>PROPERTYUNITNO</th>\n",
       "      <th>PROPERTYCITY</th>\n",
       "      <th>PROPERTYSTATE</th>\n",
       "      <th>PROPERTYZIP</th>\n",
       "      <th>SALEDATE</th>\n",
       "      <th>PRICE</th>\n",
       "      <th>SALECODE</th>\n",
       "      <th>foreclosed</th>\n",
       "    </tr>\n",
       "  </thead>\n",
       "  <tbody>\n",
       "    <tr>\n",
       "      <th>0</th>\n",
       "      <td>632.0</td>\n",
       "      <td></td>\n",
       "      <td>NaN</td>\n",
       "      <td>WESTLAND</td>\n",
       "      <td>DR</td>\n",
       "      <td>NaN</td>\n",
       "      <td>NaN</td>\n",
       "      <td>GIBSONIA</td>\n",
       "      <td>PA</td>\n",
       "      <td>15044.0</td>\n",
       "      <td>2015-07-17</td>\n",
       "      <td>232500.0</td>\n",
       "      <td>36</td>\n",
       "      <td>False</td>\n",
       "    </tr>\n",
       "    <tr>\n",
       "      <th>1</th>\n",
       "      <td>939.0</td>\n",
       "      <td></td>\n",
       "      <td>NaN</td>\n",
       "      <td>GREENOCK BUENA VISTA</td>\n",
       "      <td>RD</td>\n",
       "      <td>NaN</td>\n",
       "      <td>NaN</td>\n",
       "      <td>MC KEESPORT</td>\n",
       "      <td>PA</td>\n",
       "      <td>15135.0</td>\n",
       "      <td>2015-07-01</td>\n",
       "      <td>51500.0</td>\n",
       "      <td>36</td>\n",
       "      <td>True</td>\n",
       "    </tr>\n",
       "    <tr>\n",
       "      <th>2</th>\n",
       "      <td>3217.0</td>\n",
       "      <td></td>\n",
       "      <td>NaN</td>\n",
       "      <td>UNIVERSAL</td>\n",
       "      <td>ST</td>\n",
       "      <td>NaN</td>\n",
       "      <td>NaN</td>\n",
       "      <td>PITTSBURGH</td>\n",
       "      <td>PA</td>\n",
       "      <td>15204.0</td>\n",
       "      <td>2015-07-29</td>\n",
       "      <td>9000.0</td>\n",
       "      <td>36</td>\n",
       "      <td>True</td>\n",
       "    </tr>\n",
       "    <tr>\n",
       "      <th>3</th>\n",
       "      <td>503.0</td>\n",
       "      <td></td>\n",
       "      <td>NaN</td>\n",
       "      <td>FRIDAY</td>\n",
       "      <td>RD</td>\n",
       "      <td>NaN</td>\n",
       "      <td>NaN</td>\n",
       "      <td>PITTSBURGH</td>\n",
       "      <td>PA</td>\n",
       "      <td>15209.0</td>\n",
       "      <td>2015-07-31</td>\n",
       "      <td>59000.0</td>\n",
       "      <td>36</td>\n",
       "      <td>False</td>\n",
       "    </tr>\n",
       "    <tr>\n",
       "      <th>4</th>\n",
       "      <td>2223.0</td>\n",
       "      <td></td>\n",
       "      <td>NaN</td>\n",
       "      <td>KINGRIDGE</td>\n",
       "      <td>RD</td>\n",
       "      <td>NaN</td>\n",
       "      <td>NaN</td>\n",
       "      <td>PITTSBURGH</td>\n",
       "      <td>PA</td>\n",
       "      <td>15237.0</td>\n",
       "      <td>2015-07-31</td>\n",
       "      <td>360000.0</td>\n",
       "      <td>36</td>\n",
       "      <td>False</td>\n",
       "    </tr>\n",
       "  </tbody>\n",
       "</table>\n",
       "</div>"
      ],
      "text/plain": [
       "   PROPERTYHOUSENUM PROPERTYFRACTION PROPERTYADDRESSDIR PROPERTYADDRESSSTREET  \\\n",
       "0             632.0                                 NaN              WESTLAND   \n",
       "1             939.0                                 NaN  GREENOCK BUENA VISTA   \n",
       "2            3217.0                                 NaN             UNIVERSAL   \n",
       "3             503.0                                 NaN                FRIDAY   \n",
       "4            2223.0                                 NaN             KINGRIDGE   \n",
       "\n",
       "  PROPERTYADDRESSSUF PROPERTYADDRESSUNITDESC PROPERTYUNITNO PROPERTYCITY  \\\n",
       "0                 DR                     NaN            NaN     GIBSONIA   \n",
       "1                 RD                     NaN            NaN  MC KEESPORT   \n",
       "2                 ST                     NaN            NaN   PITTSBURGH   \n",
       "3                 RD                     NaN            NaN   PITTSBURGH   \n",
       "4                 RD                     NaN            NaN   PITTSBURGH   \n",
       "\n",
       "  PROPERTYSTATE  PROPERTYZIP    SALEDATE     PRICE SALECODE  foreclosed  \n",
       "0            PA      15044.0  2015-07-17  232500.0       36       False  \n",
       "1            PA      15135.0  2015-07-01   51500.0       36        True  \n",
       "2            PA      15204.0  2015-07-29    9000.0       36        True  \n",
       "3            PA      15209.0  2015-07-31   59000.0       36       False  \n",
       "4            PA      15237.0  2015-07-31  360000.0       36       False  "
      ]
     },
     "execution_count": 6,
     "metadata": {},
     "output_type": "execute_result"
    }
   ],
   "source": [
    "address_cleaning_df.head()"
   ]
  },
  {
   "cell_type": "code",
   "execution_count": 7,
   "metadata": {
    "colab": {},
    "colab_type": "code",
    "id": "wI6WVCl6-TdL"
   },
   "outputs": [],
   "source": [
    "#create a function that creates a column of full addresses by concatenating the partial address columns\n",
    "def make_full_address(row):\n",
    "    house_num = str(row['PROPERTYHOUSENUM'])\n",
    "    fraction = row['PROPERTYFRACTION']\n",
    "    direction = '' if row['PROPERTYADDRESSDIR'] == 'nan' else row['PROPERTYADDRESSDIR']\n",
    "    street = row['PROPERTYADDRESSSTREET']\n",
    "    uf = row['PROPERTYADDRESSSUF']\n",
    "    unit_desc = '' if row['PROPERTYADDRESSUNITDESC'] == 'nan' else row['PROPERTYADDRESSUNITDESC']\n",
    "    unit_no = '' if row['PROPERTYUNITNO'] == 'nan' else row['PROPERTYUNITNO']\n",
    "    return '{} {} {} {} {} {}: {}'.format(house_num, fraction, direction, street, uf, unit_desc, unit_no)"
   ]
  },
  {
   "cell_type": "code",
   "execution_count": 8,
   "metadata": {
    "colab": {},
    "colab_type": "code",
    "id": "kmnU2qAJ-TdT"
   },
   "outputs": [],
   "source": [
    "#use the created function to make a street address column\n",
    "address_cleaning_df = address_cleaning_df.assign(street_address=address_cleaning_df.apply(make_full_address, axis=1))"
   ]
  },
  {
   "cell_type": "code",
   "execution_count": 9,
   "metadata": {
    "colab": {},
    "colab_type": "code",
    "id": "dksVqHBw-Tdb",
    "outputId": "ca83e71b-656e-4019-d672-cea8dd22f6c3"
   },
   "outputs": [
    {
     "data": {
      "text/plain": [
       "0                632.0   nan WESTLAND DR nan: nan\n",
       "1    939.0   nan GREENOCK BUENA VISTA RD nan: nan\n",
       "2              3217.0   nan UNIVERSAL ST nan: nan\n",
       "3                  503.0   nan FRIDAY RD nan: nan\n",
       "4              2223.0   nan KINGRIDGE RD nan: nan\n",
       "Name: street_address, dtype: object"
      ]
     },
     "execution_count": 9,
     "metadata": {},
     "output_type": "execute_result"
    }
   ],
   "source": [
    "address_cleaning_df['street_address'].head()"
   ]
  },
  {
   "cell_type": "markdown",
   "metadata": {
    "colab_type": "text",
    "id": "ZiRtFp6F-Tdi"
   },
   "source": [
    "#### Data Cleaning cont.\n",
    "\n",
    "Many \"nan\" values and the occasional \":\" are leftover. These are stripped out and the previous street address columns (now combined into one) are dropped."
   ]
  },
  {
   "cell_type": "code",
   "execution_count": 10,
   "metadata": {
    "colab": {},
    "colab_type": "code",
    "id": "Wesva1Vq-Tdk"
   },
   "outputs": [],
   "source": [
    "#remove decimal points, null values, commas and extra spaces from the address column\n",
    "def address_fix(address):\n",
    "    return address.replace('.0', '', 1).replace('nan', '').replace(':', '').replace('  ', ' ').strip()"
   ]
  },
  {
   "cell_type": "code",
   "execution_count": 11,
   "metadata": {
    "colab": {},
    "colab_type": "code",
    "id": "IAuECytO-Tdq"
   },
   "outputs": [],
   "source": [
    "address_cleaning_df = address_cleaning_df.assign(street_address=address_cleaning_df['street_address'].apply(address_fix))"
   ]
  },
  {
   "cell_type": "code",
   "execution_count": 12,
   "metadata": {
    "colab": {},
    "colab_type": "code",
    "id": "BS9mm3PM-Tdv",
    "outputId": "e8931a68-5fcd-4207-8a7c-be3c1bcc3330"
   },
   "outputs": [
    {
     "data": {
      "text/plain": [
       "0                632  WESTLAND DR\n",
       "1    939  GREENOCK BUENA VISTA RD\n",
       "2              3217  UNIVERSAL ST\n",
       "3                  503  FRIDAY RD\n",
       "4              2223  KINGRIDGE RD\n",
       "Name: street_address, dtype: object"
      ]
     },
     "execution_count": 12,
     "metadata": {},
     "output_type": "execute_result"
    }
   ],
   "source": [
    "address_cleaning_df['street_address'].head()"
   ]
  },
  {
   "cell_type": "code",
   "execution_count": 13,
   "metadata": {
    "colab": {},
    "colab_type": "code",
    "id": "ZrdKqTBp-Td2",
    "outputId": "b3d2f2bb-247b-4555-cfcf-4944bbad0604"
   },
   "outputs": [
    {
     "data": {
      "text/plain": [
       "Index(['PROPERTYHOUSENUM', 'PROPERTYFRACTION', 'PROPERTYADDRESSDIR',\n",
       "       'PROPERTYADDRESSSTREET', 'PROPERTYADDRESSSUF',\n",
       "       'PROPERTYADDRESSUNITDESC', 'PROPERTYUNITNO', 'PROPERTYCITY',\n",
       "       'PROPERTYSTATE', 'PROPERTYZIP', 'SALEDATE', 'PRICE', 'SALECODE',\n",
       "       'foreclosed', 'street_address'],\n",
       "      dtype='object')"
      ]
     },
     "execution_count": 13,
     "metadata": {},
     "output_type": "execute_result"
    }
   ],
   "source": [
    "address_cleaning_df.columns"
   ]
  },
  {
   "cell_type": "code",
   "execution_count": 14,
   "metadata": {
    "colab": {},
    "colab_type": "code",
    "id": "_YkXCvzP-Td-"
   },
   "outputs": [],
   "source": [
    "#remove the partial address columns that were used to create street_address\n",
    "new_drop = [\n",
    "    \"PROPERTYHOUSENUM\", \"PROPERTYFRACTION\", \"PROPERTYADDRESSDIR\", \"PROPERTYADDRESSSTREET\", \"PROPERTYADDRESSSUF\", \"PROPERTYADDRESSUNITDESC\", \"PROPERTYUNITNO\"\n",
    "            ]\n",
    "address_clean_df = address_cleaning_df[[column for column in address_cleaning_df.columns if column not in new_drop]]"
   ]
  },
  {
   "cell_type": "code",
   "execution_count": 15,
   "metadata": {
    "colab": {},
    "colab_type": "code",
    "id": "jidi2XXo-TeB",
    "outputId": "ed916502-a84e-4f05-a744-50ea72c33da4"
   },
   "outputs": [
    {
     "data": {
      "text/html": [
       "<div>\n",
       "<style scoped>\n",
       "    .dataframe tbody tr th:only-of-type {\n",
       "        vertical-align: middle;\n",
       "    }\n",
       "\n",
       "    .dataframe tbody tr th {\n",
       "        vertical-align: top;\n",
       "    }\n",
       "\n",
       "    .dataframe thead th {\n",
       "        text-align: right;\n",
       "    }\n",
       "</style>\n",
       "<table border=\"1\" class=\"dataframe\">\n",
       "  <thead>\n",
       "    <tr style=\"text-align: right;\">\n",
       "      <th></th>\n",
       "      <th>PROPERTYCITY</th>\n",
       "      <th>PROPERTYSTATE</th>\n",
       "      <th>PROPERTYZIP</th>\n",
       "      <th>SALEDATE</th>\n",
       "      <th>PRICE</th>\n",
       "      <th>SALECODE</th>\n",
       "      <th>foreclosed</th>\n",
       "      <th>street_address</th>\n",
       "    </tr>\n",
       "  </thead>\n",
       "  <tbody>\n",
       "    <tr>\n",
       "      <th>0</th>\n",
       "      <td>GIBSONIA</td>\n",
       "      <td>PA</td>\n",
       "      <td>15044.0</td>\n",
       "      <td>2015-07-17</td>\n",
       "      <td>232500.0</td>\n",
       "      <td>36</td>\n",
       "      <td>False</td>\n",
       "      <td>632  WESTLAND DR</td>\n",
       "    </tr>\n",
       "    <tr>\n",
       "      <th>1</th>\n",
       "      <td>MC KEESPORT</td>\n",
       "      <td>PA</td>\n",
       "      <td>15135.0</td>\n",
       "      <td>2015-07-01</td>\n",
       "      <td>51500.0</td>\n",
       "      <td>36</td>\n",
       "      <td>True</td>\n",
       "      <td>939  GREENOCK BUENA VISTA RD</td>\n",
       "    </tr>\n",
       "    <tr>\n",
       "      <th>2</th>\n",
       "      <td>PITTSBURGH</td>\n",
       "      <td>PA</td>\n",
       "      <td>15204.0</td>\n",
       "      <td>2015-07-29</td>\n",
       "      <td>9000.0</td>\n",
       "      <td>36</td>\n",
       "      <td>True</td>\n",
       "      <td>3217  UNIVERSAL ST</td>\n",
       "    </tr>\n",
       "    <tr>\n",
       "      <th>3</th>\n",
       "      <td>PITTSBURGH</td>\n",
       "      <td>PA</td>\n",
       "      <td>15209.0</td>\n",
       "      <td>2015-07-31</td>\n",
       "      <td>59000.0</td>\n",
       "      <td>36</td>\n",
       "      <td>False</td>\n",
       "      <td>503  FRIDAY RD</td>\n",
       "    </tr>\n",
       "    <tr>\n",
       "      <th>4</th>\n",
       "      <td>PITTSBURGH</td>\n",
       "      <td>PA</td>\n",
       "      <td>15237.0</td>\n",
       "      <td>2015-07-31</td>\n",
       "      <td>360000.0</td>\n",
       "      <td>36</td>\n",
       "      <td>False</td>\n",
       "      <td>2223  KINGRIDGE RD</td>\n",
       "    </tr>\n",
       "  </tbody>\n",
       "</table>\n",
       "</div>"
      ],
      "text/plain": [
       "  PROPERTYCITY PROPERTYSTATE  PROPERTYZIP    SALEDATE     PRICE SALECODE  \\\n",
       "0     GIBSONIA            PA      15044.0  2015-07-17  232500.0       36   \n",
       "1  MC KEESPORT            PA      15135.0  2015-07-01   51500.0       36   \n",
       "2   PITTSBURGH            PA      15204.0  2015-07-29    9000.0       36   \n",
       "3   PITTSBURGH            PA      15209.0  2015-07-31   59000.0       36   \n",
       "4   PITTSBURGH            PA      15237.0  2015-07-31  360000.0       36   \n",
       "\n",
       "   foreclosed                street_address  \n",
       "0       False              632  WESTLAND DR  \n",
       "1        True  939  GREENOCK BUENA VISTA RD  \n",
       "2        True            3217  UNIVERSAL ST  \n",
       "3       False                503  FRIDAY RD  \n",
       "4       False            2223  KINGRIDGE RD  "
      ]
     },
     "execution_count": 15,
     "metadata": {},
     "output_type": "execute_result"
    }
   ],
   "source": [
    "address_clean_df.head()"
   ]
  },
  {
   "cell_type": "code",
   "execution_count": 16,
   "metadata": {
    "colab": {},
    "colab_type": "code",
    "id": "wZOZbNPj-TeM",
    "outputId": "67aa5c31-2997-48c0-d773-10a43e74008a"
   },
   "outputs": [
    {
     "data": {
      "text/html": [
       "<div>\n",
       "<style scoped>\n",
       "    .dataframe tbody tr th:only-of-type {\n",
       "        vertical-align: middle;\n",
       "    }\n",
       "\n",
       "    .dataframe tbody tr th {\n",
       "        vertical-align: top;\n",
       "    }\n",
       "\n",
       "    .dataframe thead th {\n",
       "        text-align: right;\n",
       "    }\n",
       "</style>\n",
       "<table border=\"1\" class=\"dataframe\">\n",
       "  <thead>\n",
       "    <tr style=\"text-align: right;\">\n",
       "      <th></th>\n",
       "      <th>city</th>\n",
       "      <th>state</th>\n",
       "      <th>zip</th>\n",
       "      <th>sale_date</th>\n",
       "      <th>price</th>\n",
       "      <th>sale_code</th>\n",
       "      <th>foreclosed</th>\n",
       "      <th>street_address</th>\n",
       "    </tr>\n",
       "  </thead>\n",
       "  <tbody>\n",
       "    <tr>\n",
       "      <th>0</th>\n",
       "      <td>GIBSONIA</td>\n",
       "      <td>PA</td>\n",
       "      <td>15044.0</td>\n",
       "      <td>2015-07-17</td>\n",
       "      <td>232500.0</td>\n",
       "      <td>36</td>\n",
       "      <td>False</td>\n",
       "      <td>632  WESTLAND DR</td>\n",
       "    </tr>\n",
       "    <tr>\n",
       "      <th>1</th>\n",
       "      <td>MC KEESPORT</td>\n",
       "      <td>PA</td>\n",
       "      <td>15135.0</td>\n",
       "      <td>2015-07-01</td>\n",
       "      <td>51500.0</td>\n",
       "      <td>36</td>\n",
       "      <td>True</td>\n",
       "      <td>939  GREENOCK BUENA VISTA RD</td>\n",
       "    </tr>\n",
       "    <tr>\n",
       "      <th>2</th>\n",
       "      <td>PITTSBURGH</td>\n",
       "      <td>PA</td>\n",
       "      <td>15204.0</td>\n",
       "      <td>2015-07-29</td>\n",
       "      <td>9000.0</td>\n",
       "      <td>36</td>\n",
       "      <td>True</td>\n",
       "      <td>3217  UNIVERSAL ST</td>\n",
       "    </tr>\n",
       "    <tr>\n",
       "      <th>3</th>\n",
       "      <td>PITTSBURGH</td>\n",
       "      <td>PA</td>\n",
       "      <td>15209.0</td>\n",
       "      <td>2015-07-31</td>\n",
       "      <td>59000.0</td>\n",
       "      <td>36</td>\n",
       "      <td>False</td>\n",
       "      <td>503  FRIDAY RD</td>\n",
       "    </tr>\n",
       "    <tr>\n",
       "      <th>4</th>\n",
       "      <td>PITTSBURGH</td>\n",
       "      <td>PA</td>\n",
       "      <td>15237.0</td>\n",
       "      <td>2015-07-31</td>\n",
       "      <td>360000.0</td>\n",
       "      <td>36</td>\n",
       "      <td>False</td>\n",
       "      <td>2223  KINGRIDGE RD</td>\n",
       "    </tr>\n",
       "  </tbody>\n",
       "</table>\n",
       "</div>"
      ],
      "text/plain": [
       "          city state      zip   sale_date     price sale_code  foreclosed  \\\n",
       "0     GIBSONIA    PA  15044.0  2015-07-17  232500.0        36       False   \n",
       "1  MC KEESPORT    PA  15135.0  2015-07-01   51500.0        36        True   \n",
       "2   PITTSBURGH    PA  15204.0  2015-07-29    9000.0        36        True   \n",
       "3   PITTSBURGH    PA  15209.0  2015-07-31   59000.0        36       False   \n",
       "4   PITTSBURGH    PA  15237.0  2015-07-31  360000.0        36       False   \n",
       "\n",
       "                 street_address  \n",
       "0              632  WESTLAND DR  \n",
       "1  939  GREENOCK BUENA VISTA RD  \n",
       "2            3217  UNIVERSAL ST  \n",
       "3                503  FRIDAY RD  \n",
       "4            2223  KINGRIDGE RD  "
      ]
     },
     "execution_count": 16,
     "metadata": {},
     "output_type": "execute_result"
    }
   ],
   "source": [
    "#rename the columns\n",
    "address_clean_df.columns = ['city', 'state', 'zip', 'sale_date', 'price', 'sale_code', 'foreclosed', 'street_address', ]\n",
    "address_clean_df.head()"
   ]
  },
  {
   "cell_type": "markdown",
   "metadata": {
    "colab_type": "text",
    "id": "LTJTaDFs-TeX"
   },
   "source": [
    "#### Data Cleaning cont.\n",
    "\n",
    "The zip code column is displayed as a float with a dollar sign ($) and a decimal place. This column is converted into a string and formatted as a standard zip code."
   ]
  },
  {
   "cell_type": "code",
   "execution_count": 17,
   "metadata": {
    "colab": {},
    "colab_type": "code",
    "id": "-QW2WorV-Tea"
   },
   "outputs": [],
   "source": [
    "#change zip codes from floats to string\n",
    "address_clean_df = address_clean_df.assign(zip=address_clean_df.zip.astype(str))"
   ]
  },
  {
   "cell_type": "code",
   "execution_count": 18,
   "metadata": {
    "colab": {},
    "colab_type": "code",
    "id": "Uue1nZF0-Tef"
   },
   "outputs": [],
   "source": [
    "#remove .0 from zip codes\n",
    "address_clean_df = address_clean_df.assign(zip=address_clean_df.zip.apply(lambda x: x.replace('.0', '')))"
   ]
  },
  {
   "cell_type": "markdown",
   "metadata": {
    "colab_type": "text",
    "id": "gHda38DF-Tek"
   },
   "source": [
    "#### Data Cleaning cont.\n",
    "\n",
    "There are 7,223 null values in the entire dataset. We won't need to deal with many of these because they are either in zip codes outside of Pittsburgh city boundaries or they are invalid sales. Once these columns are dropped, the number of null values will reduce to around 40."
   ]
  },
  {
   "cell_type": "code",
   "execution_count": 19,
   "metadata": {
    "colab": {},
    "colab_type": "code",
    "id": "E2sEU-Aj-Tem",
    "outputId": "a21ea207-cd4c-4b69-9178-08b01afabd85"
   },
   "outputs": [
    {
     "data": {
      "text/plain": [
       "city                 2\n",
       "state                0\n",
       "zip                  0\n",
       "sale_date            0\n",
       "price             7223\n",
       "sale_code            0\n",
       "foreclosed           0\n",
       "street_address       0\n",
       "dtype: int64"
      ]
     },
     "execution_count": 19,
     "metadata": {},
     "output_type": "execute_result"
    }
   ],
   "source": [
    "#check for null values\n",
    "address_clean_df.isnull().sum()"
   ]
  },
  {
   "cell_type": "code",
   "execution_count": 20,
   "metadata": {
    "colab": {},
    "colab_type": "code",
    "id": "BsBQl-kw-Tes",
    "outputId": "9aeb0bf1-81bf-434d-e687-b918e0979e04"
   },
   "outputs": [
    {
     "data": {
      "text/html": [
       "<div>\n",
       "<style scoped>\n",
       "    .dataframe tbody tr th:only-of-type {\n",
       "        vertical-align: middle;\n",
       "    }\n",
       "\n",
       "    .dataframe tbody tr th {\n",
       "        vertical-align: top;\n",
       "    }\n",
       "\n",
       "    .dataframe thead th {\n",
       "        text-align: right;\n",
       "    }\n",
       "</style>\n",
       "<table border=\"1\" class=\"dataframe\">\n",
       "  <thead>\n",
       "    <tr style=\"text-align: right;\">\n",
       "      <th></th>\n",
       "      <th>street_address</th>\n",
       "      <th>city</th>\n",
       "      <th>state</th>\n",
       "      <th>zip</th>\n",
       "      <th>sale_date</th>\n",
       "      <th>price</th>\n",
       "      <th>sale_code</th>\n",
       "      <th>foreclosed</th>\n",
       "    </tr>\n",
       "  </thead>\n",
       "  <tbody>\n",
       "    <tr>\n",
       "      <th>0</th>\n",
       "      <td>632  WESTLAND DR</td>\n",
       "      <td>GIBSONIA</td>\n",
       "      <td>PA</td>\n",
       "      <td>15044</td>\n",
       "      <td>2015-07-17</td>\n",
       "      <td>232500.0</td>\n",
       "      <td>36</td>\n",
       "      <td>False</td>\n",
       "    </tr>\n",
       "    <tr>\n",
       "      <th>1</th>\n",
       "      <td>939  GREENOCK BUENA VISTA RD</td>\n",
       "      <td>MC KEESPORT</td>\n",
       "      <td>PA</td>\n",
       "      <td>15135</td>\n",
       "      <td>2015-07-01</td>\n",
       "      <td>51500.0</td>\n",
       "      <td>36</td>\n",
       "      <td>True</td>\n",
       "    </tr>\n",
       "    <tr>\n",
       "      <th>2</th>\n",
       "      <td>3217  UNIVERSAL ST</td>\n",
       "      <td>PITTSBURGH</td>\n",
       "      <td>PA</td>\n",
       "      <td>15204</td>\n",
       "      <td>2015-07-29</td>\n",
       "      <td>9000.0</td>\n",
       "      <td>36</td>\n",
       "      <td>True</td>\n",
       "    </tr>\n",
       "    <tr>\n",
       "      <th>3</th>\n",
       "      <td>503  FRIDAY RD</td>\n",
       "      <td>PITTSBURGH</td>\n",
       "      <td>PA</td>\n",
       "      <td>15209</td>\n",
       "      <td>2015-07-31</td>\n",
       "      <td>59000.0</td>\n",
       "      <td>36</td>\n",
       "      <td>False</td>\n",
       "    </tr>\n",
       "    <tr>\n",
       "      <th>4</th>\n",
       "      <td>2223  KINGRIDGE RD</td>\n",
       "      <td>PITTSBURGH</td>\n",
       "      <td>PA</td>\n",
       "      <td>15237</td>\n",
       "      <td>2015-07-31</td>\n",
       "      <td>360000.0</td>\n",
       "      <td>36</td>\n",
       "      <td>False</td>\n",
       "    </tr>\n",
       "  </tbody>\n",
       "</table>\n",
       "</div>"
      ],
      "text/plain": [
       "                 street_address         city state    zip   sale_date  \\\n",
       "0              632  WESTLAND DR     GIBSONIA    PA  15044  2015-07-17   \n",
       "1  939  GREENOCK BUENA VISTA RD  MC KEESPORT    PA  15135  2015-07-01   \n",
       "2            3217  UNIVERSAL ST   PITTSBURGH    PA  15204  2015-07-29   \n",
       "3                503  FRIDAY RD   PITTSBURGH    PA  15209  2015-07-31   \n",
       "4            2223  KINGRIDGE RD   PITTSBURGH    PA  15237  2015-07-31   \n",
       "\n",
       "      price sale_code  foreclosed  \n",
       "0  232500.0        36       False  \n",
       "1   51500.0        36        True  \n",
       "2    9000.0        36        True  \n",
       "3   59000.0        36       False  \n",
       "4  360000.0        36       False  "
      ]
     },
     "execution_count": 20,
     "metadata": {},
     "output_type": "execute_result"
    }
   ],
   "source": [
    "#reorder columns\n",
    "column_clean_df = address_clean_df[['street_address', 'city', 'state', 'zip', 'sale_date', 'price', 'sale_code', 'foreclosed']]\n",
    "column_clean_df.head()"
   ]
  },
  {
   "cell_type": "code",
   "execution_count": 21,
   "metadata": {
    "colab": {},
    "colab_type": "code",
    "id": "EitXsMjj-Tez"
   },
   "outputs": [],
   "source": [
    "#valid codes are retrieved from the data dictionary\n",
    "valid_codes = ['0', 'U', 'UR', '14', '16', '33', '34', '36', '37', 'BK']\n",
    "cleaned_price = column_clean_df[column_clean_df['sale_code'].isin(valid_codes)]"
   ]
  },
  {
   "cell_type": "code",
   "execution_count": 22,
   "metadata": {
    "colab": {},
    "colab_type": "code",
    "id": "164AAVi_-Te5",
    "outputId": "52584d28-492e-4483-b33a-cc57f333b2e6"
   },
   "outputs": [
    {
     "name": "stdout",
     "output_type": "stream",
     "text": [
      "Na's:\n",
      "\n",
      " street_address     0\n",
      "city               0\n",
      "state              0\n",
      "zip                0\n",
      "sale_date          0\n",
      "price             90\n",
      "sale_code          0\n",
      "foreclosed         0\n",
      "dtype: int64\n",
      "\n",
      "Shape: (89899, 8)\n"
     ]
    }
   ],
   "source": [
    "print('Na\\'s:\\n\\n', cleaned_price.isnull().sum())\n",
    "print('\\nShape:', cleaned_price.shape)"
   ]
  },
  {
   "cell_type": "code",
   "execution_count": 23,
   "metadata": {
    "colab": {},
    "colab_type": "code",
    "id": "kUvtbBQq-Te9",
    "outputId": "c97c156b-2dc9-4264-beb8-7b8f36752c88"
   },
   "outputs": [
    {
     "data": {
      "text/plain": [
       "(230143, 8)"
      ]
     },
     "execution_count": 23,
     "metadata": {},
     "output_type": "execute_result"
    }
   ],
   "source": [
    "column_clean_df.shape"
   ]
  },
  {
   "cell_type": "code",
   "execution_count": 24,
   "metadata": {
    "colab": {},
    "colab_type": "code",
    "id": "836HCZu0-TfG"
   },
   "outputs": [],
   "source": [
    "#create a list of the zip codes in pittsburgh\n",
    "# 15230 -> 15222\n",
    "pgh_city_zip_list = ['15201', '15212', '15235', '15218', '15222', '15230', '15236', '15214', '15207', '15224', '15206', '15210', '15225', '15209', '15220', '15223', '15217', '15203', '15213', '15211', '15232', '15237', '15208', '15204', '15219', '15202', '15238', '15215', '15233', '15229', '15221', '15227']"
   ]
  },
  {
   "cell_type": "code",
   "execution_count": 25,
   "metadata": {
    "colab": {},
    "colab_type": "code",
    "id": "ihNba9lm-TfI",
    "outputId": "daebc12d-759a-49bb-a41e-afd452d60008"
   },
   "outputs": [
    {
     "data": {
      "text/plain": [
       "(38190, 8)"
      ]
     },
     "execution_count": 25,
     "metadata": {},
     "output_type": "execute_result"
    }
   ],
   "source": [
    "#create a dataframe containing only the zip codes in pittsburgh\n",
    "pgh_city_df = cleaned_price[cleaned_price['zip'].isin(pgh_city_zip_list)]\n",
    "pgh_city_df.shape"
   ]
  },
  {
   "cell_type": "markdown",
   "metadata": {
    "colab_type": "text",
    "id": "d8Jqfng5-TfO"
   },
   "source": [
    "#### Data Cleaning cont.\n",
    "\n",
    "40 null values are left in a full dataset of 38,190 transactions. These null values, along with sales with a recorded price of under $1,000 will be normalized to the median of the surrounding zip code for that property."
   ]
  },
  {
   "cell_type": "code",
   "execution_count": 26,
   "metadata": {
    "colab": {},
    "colab_type": "code",
    "id": "4EKfscQr-TfP",
    "outputId": "6787628d-d233-41ea-9e0a-a6b0c292a5b5"
   },
   "outputs": [
    {
     "name": "stdout",
     "output_type": "stream",
     "text": [
      "Na's:\n",
      "\n",
      " street_address     0\n",
      "city               0\n",
      "state              0\n",
      "zip                0\n",
      "sale_date          0\n",
      "price             40\n",
      "sale_code          0\n",
      "foreclosed         0\n",
      "dtype: int64\n",
      "\n",
      "Shape: (38190, 8)\n"
     ]
    }
   ],
   "source": [
    "print('Na\\'s:\\n\\n', pgh_city_df.isnull().sum())\n",
    "print('\\nShape:', pgh_city_df.shape)"
   ]
  },
  {
   "cell_type": "code",
   "execution_count": 27,
   "metadata": {
    "colab": {},
    "colab_type": "code",
    "id": "mSmr13zN-TfU",
    "outputId": "eb84c65e-5783-4506-9351-f86fc34ab5de"
   },
   "outputs": [
    {
     "data": {
      "text/plain": [
       "(447, 8)"
      ]
     },
     "execution_count": 27,
     "metadata": {},
     "output_type": "execute_result"
    }
   ],
   "source": [
    "# 447 sale prices at or under 1000\n",
    "pgh_city_df[pgh_city_df['price'] <= 1000].shape"
   ]
  },
  {
   "cell_type": "markdown",
   "metadata": {
    "colab_type": "text",
    "id": "N4ZwGCMi-Tfc"
   },
   "source": [
    "#### Normalizing Price\n",
    "\n",
    "A lookup table is created with zip code as the key and median price as the value. This will facilitate subsituting in the median price for the low or null values. "
   ]
  },
  {
   "cell_type": "code",
   "execution_count": 28,
   "metadata": {
    "colab": {},
    "colab_type": "code",
    "id": "Kzbhdppv-Tfd",
    "outputId": "0ee84c44-37ff-4869-8a96-43c53a2096f4"
   },
   "outputs": [
    {
     "data": {
      "text/plain": [
       "{'15201': 139000.0,\n",
       " '15202': 115000.0,\n",
       " '15203': 175077.5,\n",
       " '15204': 46750.0,\n",
       " '15206': 170500.0,\n",
       " '15207': 69000.0,\n",
       " '15208': 166250.0,\n",
       " '15209': 134000.0,\n",
       " '15210': 34000.0,\n",
       " '15211': 107000.0,\n",
       " '15212': 70500.0,\n",
       " '15213': 160000.0,\n",
       " '15214': 87000.0,\n",
       " '15215': 186600.0,\n",
       " '15217': 260000.0,\n",
       " '15218': 116500.0,\n",
       " '15219': 72500.0,\n",
       " '15220': 132500.0,\n",
       " '15221': 82000.0,\n",
       " '15222': 395000.0,\n",
       " '15223': 98500.0,\n",
       " '15224': 140000.0,\n",
       " '15225': 85000.0,\n",
       " '15227': 106000.0,\n",
       " '15229': 134000.0,\n",
       " '15232': 307750.0,\n",
       " '15233': 155000.0,\n",
       " '15235': 78000.0,\n",
       " '15236': 140000.0,\n",
       " '15237': 194000.0,\n",
       " '15238': 324000.0}"
      ]
     },
     "execution_count": 28,
     "metadata": {},
     "output_type": "execute_result"
    }
   ],
   "source": [
    "lookup_zip_price = pgh_city_df.groupby('zip', as_index=True).agg({\"price\": \"median\"}).to_dict()['price']\n",
    "lookup_zip_price"
   ]
  },
  {
   "cell_type": "code",
   "execution_count": 29,
   "metadata": {
    "colab": {},
    "colab_type": "code",
    "id": "NYrO0CWq-Tfg"
   },
   "outputs": [],
   "source": [
    "def clean_price(row):\n",
    "    if pd.isna(row[5]):\n",
    "        return lookup_zip_price[row[3]]\n",
    "    \n",
    "    if row[5] <= 1000:\n",
    "        return lookup_zip_price[row[3]]\n",
    "    \n",
    "    return row[5]\n",
    "\n",
    "normalized_price = pgh_city_df.apply(clean_price, axis=1)"
   ]
  },
  {
   "cell_type": "code",
   "execution_count": 30,
   "metadata": {
    "colab": {},
    "colab_type": "code",
    "id": "YwQtzBIC-Tfk",
    "outputId": "a7f73733-2f27-4cb0-8a81-4195b59f0cba"
   },
   "outputs": [
    {
     "data": {
      "text/plain": [
       "street_address    0\n",
       "city              0\n",
       "state             0\n",
       "zip               0\n",
       "sale_date         0\n",
       "price             0\n",
       "sale_code         0\n",
       "foreclosed        0\n",
       "dtype: int64"
      ]
     },
     "execution_count": 30,
     "metadata": {},
     "output_type": "execute_result"
    }
   ],
   "source": [
    "pgh_city_df = pgh_city_df.assign(price=normalized_price)\n",
    "pgh_city_df.isnull().sum()"
   ]
  },
  {
   "cell_type": "markdown",
   "metadata": {
    "colab_type": "text",
    "id": "b1m5rgHB-Tfn"
   },
   "source": [
    "## Analysis and Visualization of Pittsburgh Real Esate\n",
    "### Median Home Prices\n",
    "\n",
    "First the median price of all homes is evaluated, then the median price of homes in each zip code, and the median price of homes by year from 2012 to 2018. "
   ]
  },
  {
   "cell_type": "code",
   "execution_count": 31,
   "metadata": {
    "colab": {},
    "colab_type": "code",
    "id": "dUhEjLfW-Tfo",
    "outputId": "e17c3cbf-ca65-4300-d8e3-08cdc7c32418"
   },
   "outputs": [
    {
     "name": "stdout",
     "output_type": "stream",
     "text": [
      "Mean price in PGH zips: $197131.25\n",
      "Median price in PGH zips: $128000.0\n"
     ]
    }
   ],
   "source": [
    "#mean price of all zip codes in pittsburgh\n",
    "print('Mean price in PGH zips: $', round(pgh_city_df['price'].mean(), 2), sep='')\n",
    "print('Median price in PGH zips: $', round(pgh_city_df['price'].median(), 2), sep='')"
   ]
  },
  {
   "cell_type": "code",
   "execution_count": 32,
   "metadata": {
    "colab": {},
    "colab_type": "code",
    "id": "u3wWM2ju-Tfr"
   },
   "outputs": [],
   "source": [
    "#create a dataframe of mean prices by zip codes in pittsburgh\n",
    "zip_median = pgh_city_df.groupby('zip', as_index=False).agg({\"price\": \"median\"})"
   ]
  },
  {
   "cell_type": "code",
   "execution_count": 33,
   "metadata": {
    "colab": {},
    "colab_type": "code",
    "id": "8fi98d71-Tfz",
    "outputId": "94b79396-dd34-48d4-8dea-7e337825fa1b"
   },
   "outputs": [
    {
     "data": {
      "text/html": [
       "<div>\n",
       "<style scoped>\n",
       "    .dataframe tbody tr th:only-of-type {\n",
       "        vertical-align: middle;\n",
       "    }\n",
       "\n",
       "    .dataframe tbody tr th {\n",
       "        vertical-align: top;\n",
       "    }\n",
       "\n",
       "    .dataframe thead th {\n",
       "        text-align: right;\n",
       "    }\n",
       "</style>\n",
       "<table border=\"1\" class=\"dataframe\">\n",
       "  <thead>\n",
       "    <tr style=\"text-align: right;\">\n",
       "      <th></th>\n",
       "      <th>zip</th>\n",
       "      <th>price</th>\n",
       "    </tr>\n",
       "  </thead>\n",
       "  <tbody>\n",
       "    <tr>\n",
       "      <th>21</th>\n",
       "      <td>15224</td>\n",
       "      <td>$140,000.00</td>\n",
       "    </tr>\n",
       "  </tbody>\n",
       "</table>\n",
       "</div>"
      ],
      "text/plain": [
       "      zip       price\n",
       "21  15224 $140,000.00"
      ]
     },
     "execution_count": 33,
     "metadata": {},
     "output_type": "execute_result"
    }
   ],
   "source": [
    "#table of mean prices by zip codes in pittsburgh, formatted with $ and ,\n",
    "pd.options.display.float_format = '${:,.2f}'.format\n",
    "zip_median.loc[zip_median['zip'] == '15224']"
   ]
  },
  {
   "cell_type": "code",
   "execution_count": 34,
   "metadata": {
    "colab": {},
    "colab_type": "code",
    "id": "PX31oWvl-Tf3",
    "outputId": "4b6cffa4-e9d4-4cd9-ea2f-8ff44eed2998"
   },
   "outputs": [
    {
     "data": {
      "image/png": "[encoded data removed]",
      "text/plain": [
       "<Figure size 1080x432 with 1 Axes>"
      ]
     },
     "metadata": {},
     "output_type": "display_data"
    }
   ],
   "source": [
    "#graph of mean price by zip codes in pittsburgh\n",
    "plt.figure(figsize=(15,6))\n",
    "zip_median = zip_median.sort_values(by='price')\n",
    "zip_median[['zip', 'price']].plot(\n",
    "    x='zip', \n",
    "    y='price', \n",
    "    ax = plt.gca(), \n",
    "    kind='bar', \n",
    "    color='c',\n",
    "    edgecolor='#434348',\n",
    "    linewidth=2\n",
    ")\n",
    "plt.axhline(zip_median['price'].median(), color='r', linestyle='--')\n",
    "plt.xticks(rotation=45)\n",
    "plt.title('Median Prices of Zip Codes in Pittsburgh')\n",
    "plt.show()"
   ]
  },
  {
   "cell_type": "markdown",
   "metadata": {
    "colab_type": "text",
    "id": "TvE-lwCw-Tf8"
   },
   "source": [
    "### Visualiztion and Analysis: Median Price Over Time\n",
    "#### Splitting the sale date\n",
    "\n",
    "The original sale date is formatted as \"yyy-mm-dd\". These values are split out into one year column, one month column, and one day column for an analysis of home price over time."
   ]
  },
  {
   "cell_type": "code",
   "execution_count": 35,
   "metadata": {
    "colab": {},
    "colab_type": "code",
    "id": "8SdEuBWv-Tf8"
   },
   "outputs": [],
   "source": [
    "def split_year(input_value):\n",
    "    return input_value[:4]\n",
    "\n",
    "def split_month(input_value):\n",
    "    return input_value[5:7]\n",
    "    \n",
    "def split_day(input_value):\n",
    "    return input_value[8:10]\n",
    "pgh_city_df = pgh_city_df.assign(sale_year=pgh_city_df.sale_date.apply(split_year))\n",
    "pgh_city_df = pgh_city_df.assign(sale_month=pgh_city_df.sale_date.apply(split_month))\n",
    "pgh_city_df = pgh_city_df.assign(sale_day=pgh_city_df.sale_date.apply(split_day))"
   ]
  },
  {
   "cell_type": "code",
   "execution_count": 36,
   "metadata": {
    "colab": {},
    "colab_type": "code",
    "id": "Q1v8DM6K-TgB",
    "outputId": "d4b00669-d4c8-48c7-bff1-bcfcb1d9be6d"
   },
   "outputs": [
    {
     "data": {
      "text/html": [
       "<div>\n",
       "<style scoped>\n",
       "    .dataframe tbody tr th:only-of-type {\n",
       "        vertical-align: middle;\n",
       "    }\n",
       "\n",
       "    .dataframe tbody tr th {\n",
       "        vertical-align: top;\n",
       "    }\n",
       "\n",
       "    .dataframe thead th {\n",
       "        text-align: right;\n",
       "    }\n",
       "</style>\n",
       "<table border=\"1\" class=\"dataframe\">\n",
       "  <thead>\n",
       "    <tr style=\"text-align: right;\">\n",
       "      <th></th>\n",
       "      <th>sale_year</th>\n",
       "      <th>price</th>\n",
       "    </tr>\n",
       "  </thead>\n",
       "  <tbody>\n",
       "    <tr>\n",
       "      <th>0</th>\n",
       "      <td>2012</td>\n",
       "      <td>$112,500.00</td>\n",
       "    </tr>\n",
       "    <tr>\n",
       "      <th>1</th>\n",
       "      <td>2013</td>\n",
       "      <td>$127,509.00</td>\n",
       "    </tr>\n",
       "    <tr>\n",
       "      <th>2</th>\n",
       "      <td>2014</td>\n",
       "      <td>$118,000.00</td>\n",
       "    </tr>\n",
       "    <tr>\n",
       "      <th>3</th>\n",
       "      <td>2015</td>\n",
       "      <td>$129,788.50</td>\n",
       "    </tr>\n",
       "    <tr>\n",
       "      <th>4</th>\n",
       "      <td>2016</td>\n",
       "      <td>$131,000.00</td>\n",
       "    </tr>\n",
       "  </tbody>\n",
       "</table>\n",
       "</div>"
      ],
      "text/plain": [
       "  sale_year       price\n",
       "0      2012 $112,500.00\n",
       "1      2013 $127,509.00\n",
       "2      2014 $118,000.00\n",
       "3      2015 $129,788.50\n",
       "4      2016 $131,000.00"
      ]
     },
     "execution_count": 36,
     "metadata": {},
     "output_type": "execute_result"
    }
   ],
   "source": [
    "year_median = pgh_city_df.groupby('sale_year', as_index=False).agg({\"price\": \"median\"})\n",
    "year_median.head()"
   ]
  },
  {
   "cell_type": "code",
   "execution_count": 37,
   "metadata": {
    "colab": {},
    "colab_type": "code",
    "id": "BoNHptzH-TgF",
    "outputId": "df29d727-9765-4a4c-a35e-27f46aa6591c"
   },
   "outputs": [
    {
     "data": {
      "image/png": "[encoded data removed]",
      "text/plain": [
       "<Figure size 1080x288 with 1 Axes>"
      ]
     },
     "metadata": {},
     "output_type": "display_data"
    }
   ],
   "source": [
    "#graph of mean price by zip codes in pittsburgh\n",
    "plt.figure(figsize=(15, 4))\n",
    "year_median = year_median.sort_values(by='price')\n",
    "year_median[['sale_year', 'price']].plot(\n",
    "    x='sale_year', \n",
    "    y='price', \n",
    "    ax = plt.gca(), \n",
    "    kind='bar', \n",
    "    color='#7cb5ec',\n",
    "    edgecolor='#434348',\n",
    "    linewidth=2\n",
    ")\n",
    "plt.axhline(year_median['price'].mean(), color='r', linestyle='--')\n",
    "plt.xticks(rotation=45)\n",
    "plt.title('Median Price per Year in Pittsburgh')\n",
    "plt.show()"
   ]
  },
  {
   "cell_type": "code",
   "execution_count": 38,
   "metadata": {
    "colab": {},
    "colab_type": "code",
    "id": "i2Z7-n4h-TgL"
   },
   "outputs": [],
   "source": [
    "month_median = pgh_city_df.groupby('sale_month', as_index=False).agg({\"price\": \"median\"})"
   ]
  },
  {
   "cell_type": "code",
   "execution_count": 39,
   "metadata": {
    "colab": {},
    "colab_type": "code",
    "id": "EcnEfFhG-TgN",
    "outputId": "fef32cea-3d7b-4ccc-aad1-32654cb4ffa5"
   },
   "outputs": [
    {
     "data": {
      "image/png": "[encoded data removed]",
      "text/plain": [
       "<Figure size 1080x360 with 1 Axes>"
      ]
     },
     "metadata": {},
     "output_type": "display_data"
    }
   ],
   "source": [
    "plt.figure(figsize=(15, 5))\n",
    "month_median = month_median.sort_values(by='sale_month')\n",
    "month_median[['sale_month', 'price']].plot(\n",
    "    x='sale_month', \n",
    "    y='price', \n",
    "    ax = plt.gca(), \n",
    "    kind='bar', \n",
    "    color='#f7a35c',\n",
    "    edgecolor='#434348',\n",
    "    linewidth=2\n",
    ")\n",
    "plt.axhline(month_median['price'].mean(), color='r', linestyle='--')\n",
    "plt.xticks(rotation=45)\n",
    "plt.title('Median Price per Month in Pittsburgh')\n",
    "plt.show()"
   ]
  },
  {
   "cell_type": "markdown",
   "metadata": {
    "colab_type": "text",
    "id": "26oxtaf2-TgP"
   },
   "source": [
    "### Visualization and Analysis: Foreclosures\n",
    "#### Have foreclosures risen or fallen over the years\n",
    "\n",
    "Foreclosures put pressure on the real estate market. Banks have to pay taxes on the properties they own. As banks hold foreclosed properties over time they lower the prices on those properties. If they can get rid of a property for a loss that is lower than their tax burden on the property, they will. The more foreclosures on the market, the lower prices in the surrounding area drop."
   ]
  },
  {
   "cell_type": "code",
   "execution_count": 40,
   "metadata": {
    "colab": {},
    "colab_type": "code",
    "id": "ryx7IIo9-TgQ",
    "outputId": "b7214cfe-e5af-4481-b633-ff1d29d36896"
   },
   "outputs": [
    {
     "data": {
      "text/html": [
       "<div>\n",
       "<style scoped>\n",
       "    .dataframe tbody tr th:only-of-type {\n",
       "        vertical-align: middle;\n",
       "    }\n",
       "\n",
       "    .dataframe tbody tr th {\n",
       "        vertical-align: top;\n",
       "    }\n",
       "\n",
       "    .dataframe thead th {\n",
       "        text-align: right;\n",
       "    }\n",
       "</style>\n",
       "<table border=\"1\" class=\"dataframe\">\n",
       "  <thead>\n",
       "    <tr style=\"text-align: right;\">\n",
       "      <th></th>\n",
       "      <th>sale_year</th>\n",
       "      <th>foreclosed</th>\n",
       "    </tr>\n",
       "  </thead>\n",
       "  <tbody>\n",
       "    <tr>\n",
       "      <th>0</th>\n",
       "      <td>2012</td>\n",
       "      <td>201</td>\n",
       "    </tr>\n",
       "    <tr>\n",
       "      <th>1</th>\n",
       "      <td>2013</td>\n",
       "      <td>518</td>\n",
       "    </tr>\n",
       "    <tr>\n",
       "      <th>2</th>\n",
       "      <td>2014</td>\n",
       "      <td>650</td>\n",
       "    </tr>\n",
       "    <tr>\n",
       "      <th>3</th>\n",
       "      <td>2015</td>\n",
       "      <td>628</td>\n",
       "    </tr>\n",
       "    <tr>\n",
       "      <th>4</th>\n",
       "      <td>2016</td>\n",
       "      <td>779</td>\n",
       "    </tr>\n",
       "  </tbody>\n",
       "</table>\n",
       "</div>"
      ],
      "text/plain": [
       "  sale_year  foreclosed\n",
       "0      2012         201\n",
       "1      2013         518\n",
       "2      2014         650\n",
       "3      2015         628\n",
       "4      2016         779"
      ]
     },
     "execution_count": 40,
     "metadata": {},
     "output_type": "execute_result"
    }
   ],
   "source": [
    "foreclosed_year = pgh_city_df.groupby('sale_year', as_index=False).agg({\"foreclosed\": \"sum\"})\n",
    "foreclosed_year = foreclosed_year.assign(foreclosed=foreclosed_year.foreclosed.astype(int))\n",
    "foreclosed_year.head()"
   ]
  },
  {
   "cell_type": "code",
   "execution_count": 41,
   "metadata": {
    "colab": {},
    "colab_type": "code",
    "id": "YDFW19_u-TgV",
    "outputId": "bc26b56d-3aee-48b3-8aaf-0f5bea4511f5"
   },
   "outputs": [
    {
     "data": {
      "image/png": "[encoded data removed]",
      "text/plain": [
       "<Figure size 1080x360 with 1 Axes>"
      ]
     },
     "metadata": {},
     "output_type": "display_data"
    }
   ],
   "source": [
    "#graph of mean price by zip codes in pittsburgh\n",
    "plt.figure(figsize=(15, 5))\n",
    "foreclosed_year = foreclosed_year.sort_values(by='sale_year')\n",
    "foreclosed_year[['sale_year', 'foreclosed']].plot(\n",
    "    x='sale_year', \n",
    "    y='foreclosed', \n",
    "    ax=plt.gca(), \n",
    "    kind='bar', \n",
    "    color='#f45b5b',\n",
    "    edgecolor='#434348',\n",
    "    linewidth=2\n",
    ")\n",
    "plt.xticks(rotation=45)\n",
    "plt.title('Total Foreclosures per Year in Pittsburgh')\n",
    "plt.show()"
   ]
  },
  {
   "cell_type": "markdown",
   "metadata": {
    "colab_type": "text",
    "id": "TIeE6MHO-TgY"
   },
   "source": [
    "### Visualization and Analysis: Log Price\n",
    "\n",
    "The median price on homes in Pittsburgh is hard to visualize in a boxplot because there's not a lot of dissimilarity. Converting the price to the logarithm of that price keeps relative values, but reveals the span of prices."
   ]
  },
  {
   "cell_type": "code",
   "execution_count": 42,
   "metadata": {
    "colab": {},
    "colab_type": "code",
    "id": "V8LOc5gp-TgY",
    "outputId": "fc8a17ab-b615-425c-8ee6-6d99b47a8381"
   },
   "outputs": [
    {
     "data": {
      "image/png": "[encoded data removed]",
      "text/plain": [
       "<Figure size 1152x720 with 1 Axes>"
      ]
     },
     "metadata": {},
     "output_type": "display_data"
    }
   ],
   "source": [
    "f, ax = plt.subplots(figsize=(16, 10))\n",
    "log_price = np.log(pgh_city_df.price)\n",
    "log_price_year = log_price.to_frame().join(pgh_city_df.zip)\n",
    "fig = sns.boxplot(x=\"zip\", y=\"price\", data=log_price_year)\n",
    "fig.axis(ymin=5, ymax=20);\n",
    "xt = plt.xticks(rotation=45)\n",
    "plt.title('Logarithm of Price by Zip Code')\n",
    "plt.show()"
   ]
  },
  {
   "cell_type": "markdown",
   "metadata": {
    "colab_type": "text",
    "id": "uWCoIpdi-Tgc"
   },
   "source": [
    "## Comparing Home Prices to Demographics\n",
    "### Population and Income\n",
    "\n",
    "The demand on the real estate market is determined by local incomes and population. Real estate prices are driven up by population growth and rising income. As more people flood to an area or as incomes on the existing population rise, real estate prices rise to meet demand."
   ]
  },
  {
   "cell_type": "code",
   "execution_count": 43,
   "metadata": {
    "colab": {},
    "colab_type": "code",
    "id": "JH1b2lfN-Tgc",
    "outputId": "4c2fc960-ff17-417b-c84b-100c6a8473ed"
   },
   "outputs": [
    {
     "data": {
      "text/html": [
       "<div>\n",
       "<style scoped>\n",
       "    .dataframe tbody tr th:only-of-type {\n",
       "        vertical-align: middle;\n",
       "    }\n",
       "\n",
       "    .dataframe tbody tr th {\n",
       "        vertical-align: top;\n",
       "    }\n",
       "\n",
       "    .dataframe thead th {\n",
       "        text-align: right;\n",
       "    }\n",
       "</style>\n",
       "<table border=\"1\" class=\"dataframe\">\n",
       "  <thead>\n",
       "    <tr style=\"text-align: right;\">\n",
       "      <th></th>\n",
       "      <th>zip</th>\n",
       "      <th>pop</th>\n",
       "      <th>median_income</th>\n",
       "      <th>street_address</th>\n",
       "      <th>city</th>\n",
       "      <th>state</th>\n",
       "      <th>sale_date</th>\n",
       "      <th>price</th>\n",
       "      <th>sale_code</th>\n",
       "      <th>foreclosed</th>\n",
       "      <th>sale_year</th>\n",
       "      <th>sale_month</th>\n",
       "      <th>sale_day</th>\n",
       "    </tr>\n",
       "  </thead>\n",
       "  <tbody>\n",
       "    <tr>\n",
       "      <th>0</th>\n",
       "      <td>15201</td>\n",
       "      <td>6121</td>\n",
       "      <td>51201</td>\n",
       "      <td>246  38TH ST</td>\n",
       "      <td>PITTSBURGH</td>\n",
       "      <td>PA</td>\n",
       "      <td>2015-07-23</td>\n",
       "      <td>125000.00</td>\n",
       "      <td>36</td>\n",
       "      <td>False</td>\n",
       "      <td>2015</td>\n",
       "      <td>07</td>\n",
       "      <td>23</td>\n",
       "    </tr>\n",
       "    <tr>\n",
       "      <th>1</th>\n",
       "      <td>15201</td>\n",
       "      <td>6121</td>\n",
       "      <td>51201</td>\n",
       "      <td>1357  HAWTHORNE ST</td>\n",
       "      <td>PITTSBURGH</td>\n",
       "      <td>PA</td>\n",
       "      <td>2015-07-21</td>\n",
       "      <td>139000.00</td>\n",
       "      <td>36</td>\n",
       "      <td>False</td>\n",
       "      <td>2015</td>\n",
       "      <td>07</td>\n",
       "      <td>21</td>\n",
       "    </tr>\n",
       "    <tr>\n",
       "      <th>2</th>\n",
       "      <td>15201</td>\n",
       "      <td>6121</td>\n",
       "      <td>51201</td>\n",
       "      <td>4217  BRUCE ST</td>\n",
       "      <td>PITTSBURGH</td>\n",
       "      <td>PA</td>\n",
       "      <td>2015-07-21</td>\n",
       "      <td>279000.00</td>\n",
       "      <td>36</td>\n",
       "      <td>False</td>\n",
       "      <td>2015</td>\n",
       "      <td>07</td>\n",
       "      <td>21</td>\n",
       "    </tr>\n",
       "    <tr>\n",
       "      <th>3</th>\n",
       "      <td>15201</td>\n",
       "      <td>6121</td>\n",
       "      <td>51201</td>\n",
       "      <td>4814  HATFIELD ST</td>\n",
       "      <td>PITTSBURGH</td>\n",
       "      <td>PA</td>\n",
       "      <td>2015-07-31</td>\n",
       "      <td>234500.00</td>\n",
       "      <td>36</td>\n",
       "      <td>False</td>\n",
       "      <td>2015</td>\n",
       "      <td>07</td>\n",
       "      <td>31</td>\n",
       "    </tr>\n",
       "    <tr>\n",
       "      <th>4</th>\n",
       "      <td>15201</td>\n",
       "      <td>6121</td>\n",
       "      <td>51201</td>\n",
       "      <td>175  45TH ST</td>\n",
       "      <td>PITTSBURGH</td>\n",
       "      <td>PA</td>\n",
       "      <td>2015-07-31</td>\n",
       "      <td>162000.00</td>\n",
       "      <td>36</td>\n",
       "      <td>False</td>\n",
       "      <td>2015</td>\n",
       "      <td>07</td>\n",
       "      <td>31</td>\n",
       "    </tr>\n",
       "  </tbody>\n",
       "</table>\n",
       "</div>"
      ],
      "text/plain": [
       "     zip   pop median_income      street_address        city state  \\\n",
       "0  15201  6121         51201        246  38TH ST  PITTSBURGH    PA   \n",
       "1  15201  6121         51201  1357  HAWTHORNE ST  PITTSBURGH    PA   \n",
       "2  15201  6121         51201      4217  BRUCE ST  PITTSBURGH    PA   \n",
       "3  15201  6121         51201   4814  HATFIELD ST  PITTSBURGH    PA   \n",
       "4  15201  6121         51201        175  45TH ST  PITTSBURGH    PA   \n",
       "\n",
       "    sale_date     price sale_code  foreclosed sale_year sale_month sale_day  \n",
       "0  2015-07-23 125000.00        36       False      2015         07       23  \n",
       "1  2015-07-21 139000.00        36       False      2015         07       21  \n",
       "2  2015-07-21 279000.00        36       False      2015         07       21  \n",
       "3  2015-07-31 234500.00        36       False      2015         07       31  \n",
       "4  2015-07-31 162000.00        36       False      2015         07       31  "
      ]
     },
     "execution_count": 43,
     "metadata": {},
     "output_type": "execute_result"
    }
   ],
   "source": [
    "pd.options.display.float_format = '{:.2f}'.format\n",
    "raw_zip_income = pd.read_csv('data/ACS_16_5YR_S1903_with_ann.csv')\n",
    "temp = raw_zip_income[['GEO.display-label', 'HC01_EST_VC02', 'HC02_EST_VC02']]\n",
    "temp.columns = ['zip', 'pop', 'median_income']\n",
    "temp.zip = temp.zip.str.replace('ZCTA5 ', '', regex=False)\n",
    "pgh_income_price = pd.merge(temp, pgh_city_df)\n",
    "pgh_income_price.head()"
   ]
  },
  {
   "cell_type": "code",
   "execution_count": 44,
   "metadata": {
    "colab": {},
    "colab_type": "code",
    "id": "PhbkAMga-Tgg",
    "outputId": "4a3faf10-10dc-44f3-9ac5-8b8199235517"
   },
   "outputs": [
    {
     "data": {
      "text/plain": [
       "zip               0\n",
       "pop               0\n",
       "median_income     0\n",
       "street_address    0\n",
       "city              0\n",
       "state             0\n",
       "sale_date         0\n",
       "price             0\n",
       "sale_code         0\n",
       "foreclosed        0\n",
       "sale_year         0\n",
       "sale_month        0\n",
       "sale_day          0\n",
       "dtype: int64"
      ]
     },
     "execution_count": 44,
     "metadata": {},
     "output_type": "execute_result"
    }
   ],
   "source": [
    "pgh_income_price.isna().sum()"
   ]
  },
  {
   "cell_type": "code",
   "execution_count": 45,
   "metadata": {
    "colab": {},
    "colab_type": "code",
    "id": "R27aAW5f-Tgk",
    "outputId": "87c327c4-dd53-451c-cfd2-c59efc53fd30"
   },
   "outputs": [
    {
     "data": {
      "image/png": "[encoded data removed]",
      "text/plain": [
       "<Figure size 1152x720 with 1 Axes>"
      ]
     },
     "metadata": {},
     "output_type": "display_data"
    }
   ],
   "source": [
    "plt.figure(figsize=(16, 10))\n",
    "pgh_income_price.median_income = pgh_income_price.median_income.astype(float)\n",
    "result = pgh_income_price[['zip', 'median_income']].drop_duplicates('zip').sort_values(['median_income'])\n",
    "ax = sns.barplot(\n",
    "    result.zip, \n",
    "    result.median_income, \n",
    "    order=result['zip'], \n",
    "    palette=\"Blues_d\",\n",
    "    edgecolor='#434348',\n",
    "    linewidth=2\n",
    ")\n",
    "plt.xticks(rotation=45)\n",
    "plt.title('Median Income of Zip Codes in Pittsburgh')\n",
    "plt.show()"
   ]
  },
  {
   "cell_type": "code",
   "execution_count": 46,
   "metadata": {
    "colab": {},
    "colab_type": "code",
    "id": "wDIsyEGc-Tg5"
   },
   "outputs": [],
   "source": [
    "raw_pop = pd.read_csv('data/PEP_2017_PEPANNRES.csv')"
   ]
  },
  {
   "cell_type": "code",
   "execution_count": 47,
   "metadata": {
    "colab": {},
    "colab_type": "code",
    "id": "sDNUdqOK-ThA"
   },
   "outputs": [],
   "source": [
    "columns = ['respop72010', 'respop72011', 'respop72012', 'respop72013', 'respop72014', 'respop72015', 'respop72016', 'respop72017']\n",
    "pgh_pop = {}\n",
    "for k, v in raw_pop.to_dict().items():\n",
    "    if k in columns:\n",
    "        pgh_pop[k[-4:]] = v[0]\n",
    "    \n",
    "pgh_pop = pd.DataFrame.from_dict(pgh_pop, orient='index', columns=['pop']).reset_index()\n",
    "pgh_pop.columns = ['year', 'pop']"
   ]
  },
  {
   "cell_type": "markdown",
   "metadata": {
    "colab_type": "text",
    "id": "FojGvKk2-ThD"
   },
   "source": [
    "### Population to Median Real Estate Price\n",
    "Comparing median real estate price to population. Starting in 2012, normalizing the value of population and real estate median price will show if population has kept pace with rising prices. To normalize the values, each year's population was subtracted from the 2012 population. For example, 2012 population is 306469, 2013 population is 306181. The normalized populations are 0 for 2012 and -288 for 2013.\n",
    "\n",
    "The same is done for price. For example, 2012's median price is 112,500, 2013 median price is 118,000. The normalized median prices are 0 for 2012 and + 5,500 for 2013."
   ]
  },
  {
   "cell_type": "code",
   "execution_count": 48,
   "metadata": {
    "colab": {},
    "colab_type": "code",
    "id": "Q_xChjfM-ThF",
    "outputId": "01d53150-77d9-440a-8095-047eae5a416f"
   },
   "outputs": [
    {
     "data": {
      "image/png": "[encoded data removed]",
      "text/plain": [
       "<Figure size 864x648 with 1 Axes>"
      ]
     },
     "metadata": {},
     "output_type": "display_data"
    }
   ],
   "source": [
    "plt.figure(figsize=(12, 9))\n",
    "year_median.columns = [\n",
    "    'year',\n",
    "    'median_price'\n",
    "]\n",
    "pgh_pop_price = pd.merge(year_median, pgh_pop)\n",
    "pgh_pop_price.sort_values('year')\n",
    "pgh_pop_price = pgh_pop_price[['median_price', 'pop']]\n",
    "normed = pgh_pop_price.rolling(1).mean()\n",
    "normed['median_price'] = normed['median_price'] - pgh_pop_price['median_price'][0]\n",
    "normed['pop'] = normed['pop'] - pgh_pop_price['pop'][0]\n",
    "sns.lineplot(data=normed, palette=\"tab10\", linewidth=4)\n",
    "plt.title('Price and Population Normalized to 2012 levels')\n",
    "plt.show()"
   ]
  },
  {
   "cell_type": "markdown",
   "metadata": {
    "colab_type": "text",
    "id": "z9qXrM7w-ThI"
   },
   "source": [
    "### Income to Median Real Estate Price\n",
    "\n",
    "The same normalization strategy is used for income levels. Income levels are normalized to 2012 at 0."
   ]
  },
  {
   "cell_type": "code",
   "execution_count": 49,
   "metadata": {
    "colab": {},
    "colab_type": "code",
    "id": "NGlVSHPI-ThK"
   },
   "outputs": [],
   "source": [
    "income_raw = pd.read_csv('data/PITT342PCPI.csv', names=['year', 'income'], header=43)\n",
    "income_raw.year = income_raw.year.apply(lambda x: x[:4])"
   ]
  },
  {
   "cell_type": "code",
   "execution_count": 50,
   "metadata": {
    "colab": {},
    "colab_type": "code",
    "id": "avEMHitE-ThP",
    "outputId": "1666d312-6bc4-4459-e43a-bc5617d89c93"
   },
   "outputs": [
    {
     "data": {
      "image/png": "[encoded data removed]",
      "text/plain": [
       "<Figure size 864x648 with 1 Axes>"
      ]
     },
     "metadata": {},
     "output_type": "display_data"
    }
   ],
   "source": [
    "plt.figure(figsize=(12, 9))\n",
    "income_price = pd.merge(year_median, income_raw)\n",
    "income_price.sort_values('year')\n",
    "income_price = income_price[['median_price', 'income']]\n",
    "normed = income_price.rolling(1).mean()\n",
    "normed['median_price'] = normed['median_price'] - income_price['median_price'][0]\n",
    "normed['income'] = normed['income'] - income_price['income'][0]\n",
    "sns.lineplot(data=normed, palette=\"tab10\", linewidth=4)\n",
    "plt.title('Price and Income Normalized to 2012 levels')\n",
    "plt.show()"
   ]
  },
  {
   "cell_type": "code",
   "execution_count": null,
   "metadata": {
    "colab": {},
    "colab_type": "code",
    "id": "pXJuz3iQ-ThU"
   },
   "outputs": [],
   "source": []
  }
 ],
 "metadata": {
  "colab": {
   "name": "Project_1.ipynb",
   "provenance": [],
   "version": "0.3.2"
  },
  "kernelspec": {
   "display_name": "Python 3",
   "language": "python",
   "name": "python3"
  },
  "language_info": {
   "codemirror_mode": {
    "name": "ipython",
    "version": 3
   },
   "file_extension": ".py",
   "mimetype": "text/x-python",
   "name": "python",
   "nbconvert_exporter": "python",
   "pygments_lexer": "ipython3",
   "version": "3.6.4"
  }
 },
 "nbformat": 4,
 "nbformat_minor": 1
}
